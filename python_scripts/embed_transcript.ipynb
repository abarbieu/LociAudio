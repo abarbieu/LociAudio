{
 "cells": [
  {
   "cell_type": "code",
   "execution_count": 3,
   "metadata": {},
   "outputs": [],
   "source": [
    "import configparser\n",
    "import importlib\n",
    "import pandas as pd\n",
    "from termcolor import colored\n",
    "import cohere\n",
    "import time\n",
    "from tqdm import tqdm\n",
    "import scripts.run_on_dir as run_on_dir\n",
    "importlib.reload(run_on_dir)\n",
    "\n",
    "config = configparser.ConfigParser()\n",
    "config.read('./config.ini')\n",
    "cohere_api_key = config['cohere']['api_key']"
   ]
  },
  {
   "cell_type": "code",
   "execution_count": 18,
   "metadata": {},
   "outputs": [],
   "source": [
    "import os\n",
    "\n",
    "def embed_transcript_file_func(file_path, ignore_if_exists=True):\n",
    "    if file_path.endswith('.csv'):\n",
    "        if file_path.endswith('_embedded.csv') and ignore_if_exists:\n",
    "            print(f\"File already embedded, skipping.\")\n",
    "            return [file_path, colored(f\"Embedding skipped: {file_path}\", 'yellow')]\n",
    "        output_file_path = file_path[:-4] + '_embedded.csv'\n",
    "\n",
    "        df = pd.read_csv(file_path, quotechar='\"', escapechar='\\\\')\n",
    "        co = cohere.Client(cohere_api_key)\n",
    "        embeddings = []\n",
    "        rate_limit_calls = 100\n",
    "        rate_limit_duration = 60\n",
    "        batch_size = 96\n",
    "        start_time = time.time()\n",
    "        call_count = 0\n",
    "\n",
    "        for i, row in df.iterrows():\n",
    "            text = row['text']\n",
    "            embeddings.append({\n",
    "                'start': row['start'],\n",
    "                'end': row['end'],\n",
    "                'text': text,\n",
    "                'embedding': None\n",
    "            })\n",
    "\n",
    "        embedding_batches = [embeddings[i:i+batch_size] for i in range(0, len(embeddings), batch_size)]\n",
    "\n",
    "        for batch in tqdm(embedding_batches, total=len(embedding_batches), desc=f\"Embedding {file_path}\"):\n",
    "            texts = [item['text'] for item in batch]\n",
    "            response = co.embed(texts=texts, model='large', truncate='END')\n",
    "\n",
    "            for i, embedding in enumerate(response.embeddings):\n",
    "                batch[i]['embedding'] = embedding\n",
    "\n",
    "            call_count += 1\n",
    "\n",
    "            if call_count >= rate_limit_calls:\n",
    "                elapsed_time = time.time() - start_time\n",
    "\n",
    "                if elapsed_time < rate_limit_duration:\n",
    "                    time.sleep(rate_limit_duration - elapsed_time)\n",
    "\n",
    "                start_time = time.time()\n",
    "                call_count = 0\n",
    "\n",
    "        df_embeddings = pd.DataFrame(embeddings)\n",
    "        df = df.merge(df_embeddings, on=['start', 'end', 'text'], how='left')\n",
    "        df_embeddings.to_csv(output_file_path, index=False)\n",
    "\n",
    "        return [output_file_path, colored(f\"Embedding complete: {output_file_path}\", 'green')]"
   ]
  },
  {
   "cell_type": "code",
   "execution_count": null,
   "metadata": {},
   "outputs": [],
   "source": [
    "data_folder = \"./TRANSCRIBED_DONT_DELETE/\"\n",
    "\n",
    "run_on_dir.run_on_dir(data_folder, file_func=embed_transcript_file_func, recursive=True, file_types=['.csv'], print_output=True)"
   ]
  }
 ],
 "metadata": {
  "kernelspec": {
   "display_name": "py310-whisper",
   "language": "python",
   "name": "python3"
  },
  "language_info": {
   "codemirror_mode": {
    "name": "ipython",
    "version": 3
   },
   "file_extension": ".py",
   "mimetype": "text/x-python",
   "name": "python",
   "nbconvert_exporter": "python",
   "pygments_lexer": "ipython3",
   "version": "3.10.12"
  },
  "orig_nbformat": 4
 },
 "nbformat": 4,
 "nbformat_minor": 2
}
